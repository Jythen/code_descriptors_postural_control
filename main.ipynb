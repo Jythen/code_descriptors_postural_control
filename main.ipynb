{
 "cells": [
  {
   "cell_type": "code",
   "execution_count": 1,
   "metadata": {},
   "outputs": [],
   "source": [
    "import numpy as np\n",
    "import pandas as pd\n",
    "import os\n",
    "import matplotlib.pyplot as plt\n",
    "\n",
    "from stabilogram.stato import Stabilogram\n",
    "from descriptors import compute_all_features\n",
    "\n"
   ]
  },
  {
   "cell_type": "code",
   "execution_count": 2,
   "metadata": {},
   "outputs": [],
   "source": [
    "forceplate_file_selected = \"test.csv\""
   ]
  },
  {
   "cell_type": "code",
   "execution_count": 3,
   "metadata": {},
   "outputs": [
    {
     "data": {
      "text/html": [
       "<div>\n",
       "<style scoped>\n",
       "    .dataframe tbody tr th:only-of-type {\n",
       "        vertical-align: middle;\n",
       "    }\n",
       "\n",
       "    .dataframe tbody tr th {\n",
       "        vertical-align: top;\n",
       "    }\n",
       "\n",
       "    .dataframe thead th {\n",
       "        text-align: right;\n",
       "    }\n",
       "</style>\n",
       "<table border=\"1\" class=\"dataframe\">\n",
       "  <thead>\n",
       "    <tr style=\"text-align: right;\">\n",
       "      <th></th>\n",
       "      <th>MocapTime</th>\n",
       "      <th>DeviceFrame</th>\n",
       "      <th>Fx</th>\n",
       "      <th>Fy</th>\n",
       "      <th>Fz</th>\n",
       "      <th>Mx</th>\n",
       "      <th>My</th>\n",
       "      <th>Mz</th>\n",
       "      <th>Cx</th>\n",
       "      <th>Cy</th>\n",
       "      <th>Cz</th>\n",
       "    </tr>\n",
       "    <tr>\n",
       "      <th>MocapFrame</th>\n",
       "      <th></th>\n",
       "      <th></th>\n",
       "      <th></th>\n",
       "      <th></th>\n",
       "      <th></th>\n",
       "      <th></th>\n",
       "      <th></th>\n",
       "      <th></th>\n",
       "      <th></th>\n",
       "      <th></th>\n",
       "      <th></th>\n",
       "    </tr>\n",
       "  </thead>\n",
       "  <tbody>\n",
       "    <tr>\n",
       "      <th>0</th>\n",
       "      <td>0.00</td>\n",
       "      <td>0</td>\n",
       "      <td>1.622131</td>\n",
       "      <td>-8.233887</td>\n",
       "      <td>581.4375</td>\n",
       "      <td>-37.412109</td>\n",
       "      <td>-12.184570</td>\n",
       "      <td>3.460205</td>\n",
       "      <td>0.020956</td>\n",
       "      <td>-0.064344</td>\n",
       "      <td>0.0</td>\n",
       "    </tr>\n",
       "    <tr>\n",
       "      <th>1</th>\n",
       "      <td>0.01</td>\n",
       "      <td>1</td>\n",
       "      <td>0.000000</td>\n",
       "      <td>0.000000</td>\n",
       "      <td>0.0000</td>\n",
       "      <td>0.000000</td>\n",
       "      <td>0.000000</td>\n",
       "      <td>0.000000</td>\n",
       "      <td>0.000000</td>\n",
       "      <td>0.000000</td>\n",
       "      <td>0.0</td>\n",
       "    </tr>\n",
       "    <tr>\n",
       "      <th>2</th>\n",
       "      <td>0.02</td>\n",
       "      <td>2</td>\n",
       "      <td>0.000000</td>\n",
       "      <td>0.000000</td>\n",
       "      <td>0.0000</td>\n",
       "      <td>0.000000</td>\n",
       "      <td>0.000000</td>\n",
       "      <td>0.000000</td>\n",
       "      <td>0.000000</td>\n",
       "      <td>0.000000</td>\n",
       "      <td>0.0</td>\n",
       "    </tr>\n",
       "    <tr>\n",
       "      <th>3</th>\n",
       "      <td>0.03</td>\n",
       "      <td>3</td>\n",
       "      <td>1.216919</td>\n",
       "      <td>-7.369629</td>\n",
       "      <td>582.3125</td>\n",
       "      <td>-38.582031</td>\n",
       "      <td>-12.597168</td>\n",
       "      <td>3.246948</td>\n",
       "      <td>0.021633</td>\n",
       "      <td>-0.066257</td>\n",
       "      <td>0.0</td>\n",
       "    </tr>\n",
       "    <tr>\n",
       "      <th>4</th>\n",
       "      <td>0.04</td>\n",
       "      <td>4</td>\n",
       "      <td>0.894653</td>\n",
       "      <td>-7.661621</td>\n",
       "      <td>582.3125</td>\n",
       "      <td>-38.800781</td>\n",
       "      <td>-12.507324</td>\n",
       "      <td>3.155640</td>\n",
       "      <td>0.021479</td>\n",
       "      <td>-0.066632</td>\n",
       "      <td>0.0</td>\n",
       "    </tr>\n",
       "  </tbody>\n",
       "</table>\n",
       "</div>"
      ],
      "text/plain": [
       "             MocapTime   DeviceFrame        Fx        Fy        Fz         Mx  \\\n",
       "MocapFrame                                                                      \n",
       "0                 0.00             0  1.622131 -8.233887  581.4375 -37.412109   \n",
       "1                 0.01             1  0.000000  0.000000    0.0000   0.000000   \n",
       "2                 0.02             2  0.000000  0.000000    0.0000   0.000000   \n",
       "3                 0.03             3  1.216919 -7.369629  582.3125 -38.582031   \n",
       "4                 0.04             4  0.894653 -7.661621  582.3125 -38.800781   \n",
       "\n",
       "                   My        Mz        Cx        Cy   Cz  \n",
       "MocapFrame                                                \n",
       "0          -12.184570  3.460205  0.020956 -0.064344  0.0  \n",
       "1            0.000000  0.000000  0.000000  0.000000  0.0  \n",
       "2            0.000000  0.000000  0.000000  0.000000  0.0  \n",
       "3          -12.597168  3.246948  0.021633 -0.066257  0.0  \n",
       "4          -12.507324  3.155640  0.021479 -0.066632  0.0  "
      ]
     },
     "execution_count": 3,
     "metadata": {},
     "output_type": "execute_result"
    }
   ],
   "source": [
    "data_forceplatform = pd.read_csv(forceplate_file_selected,header=[31],sep=\",\",index_col=0)\n",
    "data_forceplatform.head()"
   ]
  },
  {
   "cell_type": "code",
   "execution_count": 4,
   "metadata": {},
   "outputs": [],
   "source": [
    "dft = data_forceplatform\n",
    "X = dft.get(\" My\")/dft.get(\" Fz\")\n",
    "Y = dft.get(' Mx')/ dft.get(' Fz')\n",
    "X = X - np.mean(X)\n",
    "Y = Y - np.mean(Y)\n",
    "X = 100*X\n",
    "Y = 100*Y\n",
    "\n",
    "X = X.to_numpy()[4000:7000]\n",
    "Y= Y.to_numpy()[4000:7000]"
   ]
  },
  {
   "cell_type": "code",
   "execution_count": 5,
   "metadata": {},
   "outputs": [
    {
     "data": {
      "text/plain": [
       "[<matplotlib.lines.Line2D at 0x7fcf016503c8>]"
      ]
     },
     "execution_count": 5,
     "metadata": {},
     "output_type": "execute_result"
    },
    {
     "data": {
      "image/png": "[encoded data removed]",
      "text/plain": [
       "<Figure size 432x288 with 1 Axes>"
      ]
     },
     "metadata": {
      "needs_background": "light"
     },
     "output_type": "display_data"
    }
   ],
   "source": [
    "plt.plot(X)\n",
    "plt.plot(Y)"
   ]
  },
  {
   "cell_type": "code",
   "execution_count": 6,
   "metadata": {},
   "outputs": [],
   "source": [
    "data = np.array([X,Y]).T\n"
   ]
  },
  {
   "cell_type": "code",
   "execution_count": 7,
   "metadata": {},
   "outputs": [
    {
     "name": "stdout",
     "output_type": "stream",
     "text": [
      "3000 3000\n"
     ]
    }
   ],
   "source": [
    "valid_index = (np.sum(np.isnan(data),axis=1) == 0)\n",
    "print(np.sum(valid_index),len(data))\n"
   ]
  },
  {
   "cell_type": "code",
   "execution_count": 8,
   "metadata": {},
   "outputs": [],
   "source": [
    "stato = Stabilogram()\n",
    "stato.from_array(array=data, original_frequency=100)"
   ]
  },
  {
   "cell_type": "code",
   "execution_count": 9,
   "metadata": {},
   "outputs": [
    {
     "data": {
      "text/plain": [
       "[<matplotlib.lines.Line2D at 0x7fcf016062b0>]"
      ]
     },
     "execution_count": 9,
     "metadata": {},
     "output_type": "execute_result"
    },
    {
     "data": {
      "image/png": "[encoded data removed]",
      "text/plain": [
       "<Figure size 432x288 with 1 Axes>"
      ]
     },
     "metadata": {
      "needs_background": "light"
     },
     "output_type": "display_data"
    }
   ],
   "source": [
    "plt.plot(stato.medio_lateral)\n",
    "plt.plot(stato.antero_posterior)"
   ]
  },
  {
   "cell_type": "code",
   "execution_count": 11,
   "metadata": {},
   "outputs": [],
   "source": [
    "sway_density_radius = 0.3 # 3 mm\n",
    "\n",
    "params_dic = {\"sway_density_radius\": sway_density_radius}\n",
    "\n",
    "features = compute_all_features(stato, params_dic=params_dic)\n"
   ]
  },
  {
   "cell_type": "code",
   "execution_count": 12,
   "metadata": {},
   "outputs": [
    {
     "data": {
      "text/plain": [
       "{'mean_value_ML': 0.37408211618441994,\n",
       " 'mean_value_AP': -0.23424815039801114,\n",
       " 'mean_distance_ML': 0.1795810955311253,\n",
       " 'mean_distance_AP': 0.34804323313894586,\n",
       " 'mean_distance_Radius': 0.4254325412234754,\n",
       " 'maximal_distance_ML': 1.0934116824820324,\n",
       " 'maximal_distance_AP': 1.0760854903981556,\n",
       " 'maximal_distance_Radius': 1.1715638528570649,\n",
       " 'rms_ML': 0.26540984939429485,\n",
       " 'rms_AP': 0.41648441647296885,\n",
       " 'rms_Radius': 0.4938640069091203,\n",
       " 'range_ML': 1.6807988285326032,\n",
       " 'range_AP': 2.1256765044334616,\n",
       " 'range_ML_AND_AP': 2.127255063910078,\n",
       " 'range_ratio_ML_AND_AP': 0.7907124273270227,\n",
       " 'planar_deviation_ML_AND_AP': 0.4938640069091203,\n",
       " 'coefficient_sway_direction_ML_AND_AP': -0.23294898489296692,\n",
       " 'confidence_ellipse_area_ML_AND_AP': 2.034277923412154,\n",
       " 'principal_sway_direction_ML_AND_AP': 13.280808808239561,\n",
       " 'mean_velocity_ML': 0.3581913643625223,\n",
       " 'mean_velocity_AP': 0.5203914302706945,\n",
       " 'mean_velocity_ML_AND_AP': 0.6953667708089489,\n",
       " 'sway_area_per_second_ML_AND_AP': 0.09587003176410186,\n",
       " 'phase_plane_parameter_ML': 0.5737780683328979,\n",
       " 'phase_plane_parameter_AP': 0.8232743925680995,\n",
       " 'LFS_ML_AND_AP': 10.22739987646638,\n",
       " 'fractal_dimension_ML_AND_AP': 1.6306876842986446,\n",
       " 'zero_crossing_SPD_ML': 96,\n",
       " 'peak_velocity_pos_SPD_ML': 0.4436348825935376,\n",
       " 'peak_velocity_neg_SPD_ML': 0.4419487741618079,\n",
       " 'peak_velocity_all_SPD_ML': 0.4428007026325764,\n",
       " 'zero_crossing_SPD_AP': 119,\n",
       " 'peak_velocity_pos_SPD_AP': 0.5450626275866571,\n",
       " 'peak_velocity_neg_SPD_AP': 0.5607541773355091,\n",
       " 'peak_velocity_all_SPD_AP': 0.5529084024610833,\n",
       " 'mean_peak_Sway_Density': 2.1265552009131103,\n",
       " 'mean_distance_peak_Sway_Density': 0.29705469931389783,\n",
       " 'mean_frequency_ML': 0.353069743030671,\n",
       " 'mean_frequency_AP': 0.2646689220465907,\n",
       " 'mean_frequency_ML_AND_AP': 0.26048598103306375,\n",
       " 'total_power_Power_Spectrum_Density_ML': 1.9701029214613246,\n",
       " 'total_power_Power_Spectrum_Density_AP': 2.0989758261604448,\n",
       " 'power_frequency_50_Power_Spectrum_Density_ML': 0.267379679144385,\n",
       " 'power_frequency_50_Power_Spectrum_Density_AP': 0.267379679144385,\n",
       " 'power_frequency_95_Power_Spectrum_Density_ML': 0.4679144385026737,\n",
       " 'power_frequency_95_Power_Spectrum_Density_AP': 0.8689839572192513,\n",
       " 'frequency_mode_Power_Spectrum_Density_ML': 0.16711229946524062,\n",
       " 'frequency_mode_Power_Spectrum_Density_AP': 0.16711229946524062,\n",
       " 'centroid_frequency_Power_Spectrum_Density_ML': 0.3729753079987071,\n",
       " 'centroid_frequency_Power_Spectrum_Density_AP': 0.45534971736668983,\n",
       " 'frequency_dispersion_Power_Spectrum_Density_ML': 0.5838227123730866,\n",
       " 'frequency_dispersion_Power_Spectrum_Density_AP': 0.6227456505967819,\n",
       " 'energy_content_below_05_Power_Spectrum_Density_ML': 1.8752359018791513,\n",
       " 'energy_content_below_05_Power_Spectrum_Density_AP': 1.7820102956900112,\n",
       " 'energy_content_05_2_Power_Spectrum_Density_ML': 0.08965619802324465,\n",
       " 'energy_content_05_2_Power_Spectrum_Density_AP': 0.3113113942067609,\n",
       " 'energy_content_above_2_Power_Spectrum_Density_ML': 0.0052108215589284105,\n",
       " 'energy_content_above_2_Power_Spectrum_Density_AP': 0.005654136263672136,\n",
       " 'frequency_quotient_Power_Spectrum_Density_ML': 0.002651963209169222,\n",
       " 'frequency_quotient_Power_Spectrum_Density_AP': 0.002701035531691719,\n",
       " 'short_time_diffusion_Diffusion_ML': 0.15090846958680665,\n",
       " 'long_time_diffusion_Diffusion_ML': 0.17848366042769717,\n",
       " 'critical_time_Diffusion_ML': 1.0948561247013364,\n",
       " 'critical_displacement_Diffusion_ML': 0.17789552569946945,\n",
       " 'short_time_scaling_Diffusion_ML': 0.9077332572699823,\n",
       " 'long_time_scaling_Diffusion_ML': -0.018210699820200377,\n",
       " 'short_time_diffusion_Diffusion_AP': 0.296984629846704,\n",
       " 'long_time_diffusion_Diffusion_AP': 0.8407079713632779,\n",
       " 'critical_time_Diffusion_AP': 1.5307497820151665,\n",
       " 'critical_displacement_Diffusion_AP': 0.6432588727723381,\n",
       " 'short_time_scaling_Diffusion_AP': 0.9076370373880287,\n",
       " 'long_time_scaling_Diffusion_AP': -0.31437732622853565}"
      ]
     },
     "execution_count": 12,
     "metadata": {},
     "output_type": "execute_result"
    }
   ],
   "source": [
    "features"
   ]
  }
 ],
 "metadata": {
  "kernelspec": {
   "display_name": "Python 3",
   "language": "python",
   "name": "python3"
  },
  "language_info": {
   "codemirror_mode": {
    "name": "ipython",
    "version": 3
   },
   "file_extension": ".py",
   "mimetype": "text/x-python",
   "name": "python",
   "nbconvert_exporter": "python",
   "pygments_lexer": "ipython3",
   "version": "3.6.9"
  }
 },
 "nbformat": 4,
 "nbformat_minor": 4
}
